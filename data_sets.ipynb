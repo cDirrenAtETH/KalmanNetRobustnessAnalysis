{
 "cells": [
  {
   "cell_type": "code",
   "execution_count": 12,
   "metadata": {
    "collapsed": true,
    "pycharm": {
     "name": "#%%\n"
    }
   },
   "outputs": [],
   "source": [
    "from config import configuration\n",
    "\n",
    "from models.models import GerstnerWaves\n",
    "from models.simulation import DataGeneration\n",
    "\n",
    "import torch"
   ]
  },
  {
   "cell_type": "code",
   "execution_count": 13,
   "outputs": [],
   "source": [
    "data_config_name = \"default_r1e-3\"\n",
    "data_config = configuration.get_data_config_from_json(configuration.get_json_from_path(configuration.DATA_CONFIG_JSON_PATH), data_config_name)\n",
    "\n",
    "process_covariance = torch.mul(torch.eye(4), data_config.process_var)\n",
    "measurement_covariance = torch.mul(torch.Tensor([[1]]), data_config.measurement_var)\n",
    "\n",
    "# Initialize model\n",
    "model = GerstnerWaves()\n",
    "model.set_process_noise(process_covariance)\n",
    "model.set_measurement_noise(measurement_covariance)\n",
    "\n",
    "gen = DataGeneration(data_config.save_info.path, data_config.save_info.name, model)\n",
    "train, val, test = gen.load_data()"
   ],
   "metadata": {
    "collapsed": false,
    "pycharm": {
     "name": "#%%\n"
    }
   }
  },
  {
   "cell_type": "code",
   "execution_count": 14,
   "outputs": [],
   "source": [
    "# Replace test data\n",
    "#gen.replace_test_and_save(traj_lengths=config.data_params.test_set.trajectory_length)"
   ],
   "metadata": {
    "collapsed": false,
    "pycharm": {
     "name": "#%%\n"
    }
   }
  },
  {
   "cell_type": "code",
   "execution_count": 15,
   "outputs": [],
   "source": [
    "# Change sequence lengths\n",
    "# new_data_config_name = \"default_r1e-3_longtest\"\n",
    "# new_data_config = configuration.get_data_config_from_json(configuration.get_json_from_path(configuration.DATA_CONFIG_JSON_PATH), new_data_config_name)\n",
    "# new_data_name = configuration.get_data_name(new_data_config)\n",
    "#\n",
    "# seq_lengths = [new_data_config.train_set.trajectory_length, new_data_config.val_set.trajectory_length, new_data_config.test_set.trajectory_length]\n",
    "# gen.change_seq_lengths_and_save(seq_lengths, new_data_name)"
   ],
   "metadata": {
    "collapsed": false,
    "pycharm": {
     "name": "#%%\n"
    }
   }
  }
 ],
 "metadata": {
  "kernelspec": {
   "display_name": "Python 3",
   "language": "python",
   "name": "python3"
  },
  "language_info": {
   "codemirror_mode": {
    "name": "ipython",
    "version": 2
   },
   "file_extension": ".py",
   "mimetype": "text/x-python",
   "name": "python",
   "nbconvert_exporter": "python",
   "pygments_lexer": "ipython2",
   "version": "2.7.6"
  }
 },
 "nbformat": 4,
 "nbformat_minor": 0
}